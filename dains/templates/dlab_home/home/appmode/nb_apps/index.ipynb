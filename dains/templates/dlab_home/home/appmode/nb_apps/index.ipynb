{
 "cells": [
  {
   "cell_type": "code",
   "execution_count": null,
   "metadata": {},
   "outputs": [],
   "source": [
    "from IPython.display import display_javascript, Javascript, display\n",
    "from ldap3 import Server, Connection, ALL\n",
    "import ipywidgets as wg\n",
    "import os"
   ]
  },
  {
   "cell_type": "code",
   "execution_count": null,
   "metadata": {},
   "outputs": [],
   "source": [
    "def go_to_url(url):\n",
    "    redirect = 'window.location.assign(\"{}\");'.format(url)\n",
    "    display_javascript(Javascript(redirect))"
   ]
  },
  {
   "cell_type": "code",
   "execution_count": null,
   "metadata": {},
   "outputs": [],
   "source": [
    "def centered_button(descrip, style, icon, button_width_percent):\n",
    "    button = wg.Button(description=descrip,\n",
    "                       layout=wg.Layout(width='auto', grid_area='button'),\n",
    "                       button_style=style,\n",
    "                       icon=icon,\n",
    "                      )\n",
    "    return wg.GridBox(children=[button],\n",
    "               layout=wg.Layout(\n",
    "                   width='100%',\n",
    "                   grid_template_rows='auto',\n",
    "                   grid_template_columns='{}% {}% {}%'.format(\n",
    "                       50 - button_width_percent/2.0,\n",
    "                       button_width_percent,\n",
    "                       50 - button_width_percent/2.0,\n",
    "                   ),\n",
    "                   grid_template_areas='''\n",
    "                   \". button .\"\n",
    "                   ''')\n",
    "              )"
   ]
  },
  {
   "cell_type": "markdown",
   "metadata": {},
   "source": [
    "# Welcome to Datalab apps\n",
    "---"
   ]
  },
  {
   "cell_type": "code",
   "execution_count": null,
   "metadata": {},
   "outputs": [],
   "source": [
    "user = os.environ['JUPYTERHUB_USER']\n",
    "apps_url = 'http://jupyterapp.msedatalab.pl.eso.org/user/{}/apps/nb_apps'.format(user)\n",
    "ldap_dir = 'ldap://msedatalab'\n",
    "ldap_base_dn = 'dc=pl,dc=eso,dc=org'\n",
    "ldap_admin = 'cn=admin'\n",
    "ldap_admin_passwd = 'admin'\n",
    "user_menu = []\n",
    "\n",
    "pass_button = centered_button(\"Change your Password\", \"primary\", \"key\", 34)\n",
    "pass_button.children[0].on_click(\n",
    "    lambda x: go_to_url('{}/change_pass.ipynb'.format(apps_url))\n",
    ")\n",
    "user_menu.append(pass_button)\n",
    "\n",
    "server = Server(ldap_dir, get_info=ALL)\n",
    "conn = Connection(server, ldap_admin+','+ldap_base_dn, ldap_admin_passwd, auto_bind=True)\n",
    "\n",
    "conn.search(ldap_base_dn, '(&(objectclass=PosixGroup)'\n",
    "                          '(|(cn=qowAdmin)(cn=qowAuditor)(cn=qowWpm)(cn=qowQc))'\n",
    "                          '(memberUid={}))'.format(user))\n",
    "if conn.entries != []:\n",
    "    qow_button = centered_button(\"Quality of Work\", \"primary\", \"clipboard\", 34)\n",
    "    qow_button.children[0].on_click(\n",
    "        lambda x: go_to_url('{}/qow/user_menu.ipynb'.format(apps_url))\n",
    "    )\n",
    "    user_menu.append(qow_button)\n",
    "    \n",
    "sao_button = centered_button(\"SAO Performance Monitoring\", \"primary\", \"stethoscope\", 34)\n",
    "sao_button.children[0].on_click(\n",
    "    lambda x: go_to_url('{}/sao_perfmon/user_menu.ipynb'.format(apps_url))\n",
    ")\n",
    "user_menu.append(sao_button)\n",
    "\n",
    "wg.VBox(user_menu)"
   ]
  },
  {
   "cell_type": "code",
   "execution_count": null,
   "metadata": {},
   "outputs": [],
   "source": []
  }
 ],
 "metadata": {
  "kernelspec": {
   "display_name": "Python 3",
   "language": "python",
   "name": "python3"
  },
  "language_info": {
   "codemirror_mode": {
    "name": "ipython",
    "version": 3
   },
   "file_extension": ".py",
   "mimetype": "text/x-python",
   "name": "python",
   "nbconvert_exporter": "python",
   "pygments_lexer": "ipython3",
   "version": "3.7.2"
  }
 },
 "nbformat": 4,
 "nbformat_minor": 2
}
