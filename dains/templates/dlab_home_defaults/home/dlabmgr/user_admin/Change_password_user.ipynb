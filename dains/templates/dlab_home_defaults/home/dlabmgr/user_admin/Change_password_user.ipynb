{
 "cells": [
  {
   "cell_type": "code",
   "execution_count": 1,
   "metadata": {},
   "outputs": [],
   "source": [
    "import ipywidgets as w\n",
    "\n",
    "from ldap3 import Server, Connection, MODIFY_REPLACE\n",
    "from passlib.hash import ldap_salted_sha1"
   ]
  },
  {
   "cell_type": "code",
   "execution_count": 4,
   "metadata": {},
   "outputs": [],
   "source": [
    "def change_password(user_name, old_pass, new_pass, new_pass2):\n",
    "    dn = 'cn={},ou=users,dc=pl,dc=eso,dc=org'.format(user_name)\n",
    "    server = Server('ldap://ldap-server')\n",
    "    connection = Connection(server, 'cn=admin,dc=pl,dc=eso,dc=org', 'admin', auto_bind=True)\n",
    "    connection.search('ou=users,dc=pl,dc=eso,dc=org', '(cn={})'.format(user_name), attributes=['userPassword'])\n",
    "\n",
    "    if len(connection.entries) == 0:\n",
    "        return 'User does not exist.'\n",
    "\n",
    "    current_pass = connection.entries[0].entry_attributes_as_dict['userPassword'][0]\n",
    "    if not ldap_salted_sha1.verify(old_pass, current_pass):\n",
    "        return 'Old password incorrect.'\n",
    "    \n",
    "    if new_pass != new_pass2:\n",
    "        return 'Passwords do not match.'\n",
    "\n",
    "    if connection.modify(dn, {\n",
    "        'userPassword': [(MODIFY_REPLACE, [ldap_salted_sha1.hash(new_pass)])]\n",
    "    }):\n",
    "        return 'Success.'\n",
    "    return 'LDAP error.'"
   ]
  },
  {
   "cell_type": "markdown",
   "metadata": {},
   "source": [
    "## Change your Datalab password\n",
    "---"
   ]
  },
  {
   "cell_type": "code",
   "execution_count": 3,
   "metadata": {},
   "outputs": [
    {
     "data": {
      "application/vnd.jupyter.widget-view+json": {
       "model_id": "d1f02666ff434fcf9c66367dc5a97122",
       "version_major": 2,
       "version_minor": 0
      },
      "text/plain": [
       "VBox(children=(Text(value='', placeholder='User name'), Password(placeholder='Current password'), Password(pla…"
      ]
     },
     "metadata": {},
     "output_type": "display_data"
    }
   ],
   "source": [
    "w_username = w.Text(placeholder='User name')\n",
    "w_old_password = w.Password(placeholder='Current password')\n",
    "w_new_password = w.Password(placeholder='New password')\n",
    "w_new_password2 = w.Password(placeholder='Repeat new password')\n",
    "w_mod_pass_button = w.Button(description='Change Password', icon='key', button_style='success')\n",
    "w_mod_pass_result = w.Label()\n",
    "\n",
    "def button_mod_pass_action(*_):\n",
    "    w_mod_pass_result.value = change_password(\n",
    "        w_username.value, w_old_password.value, w_new_password.value, w_new_password2.value\n",
    "    )\n",
    "\n",
    "w_mod_pass_button.on_click(button_mod_pass_action)\n",
    "w.VBox([w_username, w_old_password, w_new_password, w_new_password2, w_mod_pass_button, w_mod_pass_result])"
   ]
  },
  {
   "cell_type": "code",
   "execution_count": null,
   "metadata": {},
   "outputs": [],
   "source": []
  }
 ],
 "metadata": {
  "kernelspec": {
   "display_name": "Python 3",
   "language": "python",
   "name": "python3"
  },
  "language_info": {
   "codemirror_mode": {
    "name": "ipython",
    "version": 3
   },
   "file_extension": ".py",
   "mimetype": "text/x-python",
   "name": "python",
   "nbconvert_exporter": "python",
   "pygments_lexer": "ipython3",
   "version": "3.6.7"
  }
 },
 "nbformat": 4,
 "nbformat_minor": 2
}
