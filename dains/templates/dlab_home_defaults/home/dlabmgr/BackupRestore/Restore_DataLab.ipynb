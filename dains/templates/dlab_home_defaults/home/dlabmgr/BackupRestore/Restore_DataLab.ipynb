{
 "cells": [
  {
   "cell_type": "markdown",
   "metadata": {},
   "source": [
    "# Restore DataLab Snapshots"
   ]
  },
  {
   "cell_type": "code",
   "execution_count": 2,
   "metadata": {},
   "outputs": [],
   "source": [
    "import ipywidgets as w\n",
    "from IPython import display as d"
   ]
  },
  {
   "cell_type": "code",
   "execution_count": 3,
   "metadata": {},
   "outputs": [],
   "source": [
    "dlab_host='dlabmgr@devdatalab'"
   ]
  },
  {
   "cell_type": "markdown",
   "metadata": {},
   "source": [
    "## Test ssh passwordless connection to datalab host"
   ]
  },
  {
   "cell_type": "code",
   "execution_count": 28,
   "metadata": {},
   "outputs": [
    {
     "name": "stdout",
     "output_type": "stream",
     "text": [
      "/bin/sh: 1: rsync: not found\r\n"
     ]
    }
   ],
   "source": [
    "#!rsync -a /backups/toolscfg/ldap/* /toolscfg/ldap"
   ]
  },
  {
   "cell_type": "code",
   "execution_count": 66,
   "metadata": {},
   "outputs": [],
   "source": [
    "def button_testssh_action(*_):\n",
    "    !ssh dlabmgr@devdatalab ls /data/distributed\n",
    "    \n",
    "def button_cpssh_action(*_):\n",
    "    !cp -a /tmp/.ssh/* /home/dlabmgr/.ssh\n",
    "    \n",
    "def button_restore_ldap_action(*_):\n",
    "    ! ssh $dlab_host /data/distributed/bin/dlab stop ldap\n",
    "    ! cp -a /backups/toolscfg/ldap/* /toolscfg/ldap\n",
    "    ! ssh $dlab_host /data/distributed/bin/dlab start ldap\n",
    "        \n",
    "def button_restore_cronicle_action(*_):\n",
    "    print('not implemented')\n",
    "    \n",
    "def button_restore_homes_action(*_):\n",
    "    print('not implemented')\n",
    "    \n",
    "    \n",
    "def button_restore_grafana_databases_action(*_):\n",
    "    ! ssh $dlab_host /data/distributed/bin/dlab stop frontend\n",
    "    ! cp -a /backups/toolscfg/grafana_* /toolscfg/\n",
    "    ! ssh $dlab_host /data/distributed/bin/dlab start frontend    \n",
    "\n",
    "def button_restore_autrep_dashboards_action(*_):\n",
    "    print('not implemented')\n",
    "    \n",
    "def button_restore_autrep_database_action(*_):\n",
    "    print('not implemented')\n",
    "    \n",
    "def button_restore_mygrafana_datasources_action(*_):\n",
    "    !wizzy init\n",
    "    !wizzy set grafana url http://mygrafana.devdatalab.pl.eso.org\n",
    "    \n",
    "    !wizzy set grafana username dlabmgr\n",
    "    !wizzy set grafana password dlabmgr\n",
    "\n",
    "    !wizzy import datasources\n",
    "    !wizzy import dashboards\n",
    "    \n",
    "def button_restore_mygrafana_dashboards_action(*_):\n",
    "    print('not implemented')\n",
    "    \n",
    "def button_restore_mygrafana_database_action(*_):\n",
    "    print('not implemented')"
   ]
  },
  {
   "cell_type": "code",
   "execution_count": 21,
   "metadata": {},
   "outputs": [
    {
     "data": {
      "application/vnd.jupyter.widget-view+json": {
       "model_id": "eec40331edc54d07a3f043c2977e1262",
       "version_major": 2,
       "version_minor": 0
      },
      "text/plain": [
       "HBox(children=(Button(button_style='success', description='Test passwordless ssh to hosts', style=ButtonStyle(…"
      ]
     },
     "metadata": {},
     "output_type": "display_data"
    }
   ],
   "source": [
    "#!cp -a /tmp/.ssh/* /home/dlabmgr/.ssh\n",
    "\n",
    "w_testssh_button = w.Button(description='Test passwordless ssh to hosts', icon='', button_style='success')\n",
    "w_cpssh_button = w.Button(description='Copy hosts ssh credentials', icon='key', button_style='success')\n",
    "w_cpssh_result = w.Label()\n",
    "    \n",
    "w_testssh_button.on_click(button_testssh_action)    \n",
    "w_cpssh_button.on_click(button_cpssh_action)\n",
    "w.HBox([w_testssh_button,w_cpssh_button, w_cpssh_result])\n"
   ]
  },
  {
   "cell_type": "markdown",
   "metadata": {},
   "source": [
    "## Restore user accouns database (LDAP)\n",
    "\n",
    "* Stop LDAP \n",
    "* Copy data snapshot from backup to toolscfg/ldap\n",
    "* Start LDAP"
   ]
  },
  {
   "cell_type": "code",
   "execution_count": 22,
   "metadata": {
    "scrolled": true
   },
   "outputs": [
    {
     "data": {
      "application/vnd.jupyter.widget-view+json": {
       "model_id": "4766b660298c4a109fda989bf4200d1d",
       "version_major": 2,
       "version_minor": 0
      },
      "text/plain": [
       "VBox(children=(Button(button_style='success', description='Restore LDAP database', style=ButtonStyle()), Label…"
      ]
     },
     "metadata": {},
     "output_type": "display_data"
    }
   ],
   "source": [
    "w_restore_ldap_button = w.Button(description='Restore LDAP database', icon='', button_style='success')\n",
    "w_restore_ldap_result = w.Label()\n",
    "    \n",
    "w_restore_ldap_button.on_click(button_restore_ldap_action)    \n",
    "w.VBox([w_restore_ldap_button, w_restore_ldap_result])\n"
   ]
  },
  {
   "cell_type": "markdown",
   "metadata": {},
   "source": [
    "## Restore Grafana Dashboard\n",
    "\n",
    "* Stop Autrep and myGrafana\n",
    "* Copy grafana snapshot from backup to toolscfg/grafana_official and grafana_playground\n",
    "* Start Autrep and myGrafana"
   ]
  },
  {
   "cell_type": "code",
   "execution_count": 23,
   "metadata": {},
   "outputs": [
    {
     "data": {
      "application/vnd.jupyter.widget-view+json": {
       "model_id": "27bebc0439e24aada99c2085ddff4ebe",
       "version_major": 2,
       "version_minor": 0
      },
      "text/plain": [
       "VBox(children=(Button(button_style='success', description='Restore Grafana', style=ButtonStyle()), Label(value…"
      ]
     },
     "metadata": {},
     "output_type": "display_data"
    }
   ],
   "source": [
    "w_restore_grafana_button = w.Button(description='Restore Grafana', icon='', button_style='success')\n",
    "w_restore_grafana_result = w.Label()\n",
    "    \n",
    "w_restore_grafana_button.on_click(button_restore_grafana_action)    \n",
    "w.VBox([w_restore_grafana_button, w_restore_grafana_result])\n"
   ]
  },
  {
   "cell_type": "markdown",
   "metadata": {},
   "source": [
    "## Restore Cronicle\n",
    "\n",
    "* Stop Autrep and myGrafana\n",
    "* Copy grafana snapshot from backup to toolscfg/grafana_official and grafana_playground\n",
    "* Start Autrep and myGrafana"
   ]
  },
  {
   "cell_type": "code",
   "execution_count": 24,
   "metadata": {},
   "outputs": [
    {
     "data": {
      "application/vnd.jupyter.widget-view+json": {
       "model_id": "4e44116f7fb940f3b3b71fffa5c96b5a",
       "version_major": 2,
       "version_minor": 0
      },
      "text/plain": [
       "VBox(children=(Button(button_style='success', description='Restore Cronicle', style=ButtonStyle()), Label(valu…"
      ]
     },
     "metadata": {},
     "output_type": "display_data"
    }
   ],
   "source": [
    "w_restore_cronicle_button = w.Button(description='Restore Cronicle', icon='', button_style='success')\n",
    "w_restore_cronicle_result = w.Label()\n",
    "    \n",
    "w_restore_cronicle_button.on_click(button_restore_cronicle_action)    \n",
    "w.VBox([w_restore_cronicle_button, w_restore_cronicle_result])\n"
   ]
  },
  {
   "cell_type": "markdown",
   "metadata": {},
   "source": [
    "## Restore User homes\n",
    "\n",
    "* Copy home snapshot from backup/home to home \n",
    "* Note: User appmode contain all appmode reports, this will be improved in fure versions of the DataLab "
   ]
  },
  {
   "cell_type": "code",
   "execution_count": 27,
   "metadata": {},
   "outputs": [
    {
     "data": {
      "application/vnd.jupyter.widget-view+json": {
       "model_id": "c8217de635a84065b4acb7194b78bbbd",
       "version_major": 2,
       "version_minor": 0
      },
      "text/plain": [
       "VBox(children=(Button(button_style='success', description='Restore Homes', style=ButtonStyle()), Label(value='…"
      ]
     },
     "metadata": {},
     "output_type": "display_data"
    },
    {
     "name": "stdout",
     "output_type": "stream",
     "text": [
      "not implemented\n"
     ]
    }
   ],
   "source": [
    "w_restore_homes_button = w.Button(description='Restore Homes', icon='', button_style='success')\n",
    "w_restore_homes_result = w.Label()\n",
    "    \n",
    "w_restore_homes_button.on_click(button_restore_homes_action)    \n",
    "w.VBox([w_restore_homes_button, w_restore_homes_result])\n"
   ]
  },
  {
   "cell_type": "code",
   "execution_count": 67,
   "metadata": {
    "scrolled": false
   },
   "outputs": [],
   "source": [
    "#w_restore_grafana_db_button = w.Button(description='Restore Grafana Databases', icon='', button_style='success')\n",
    "#w_restore_grafana__button = w.Button(description='Copy hosts ssh credentials', icon='key', button_style='success')\n",
    "#w_cpssh_result = w.Label()\n",
    "    \n",
    "#w_testssh_button.on_click(button_testssh_action)    \n",
    "#w_cpssh_button.on_click(button_cpssh_action)\n",
    "#w.HBox([w_testssh_button,w_cpssh_button, w_cpssh_result])"
   ]
  },
  {
   "cell_type": "code",
   "execution_count": 68,
   "metadata": {},
   "outputs": [
    {
     "name": "stdout",
     "output_type": "stream",
     "text": [
      "grafana.db\r\n",
      "grafana.ini\r\n",
      "ldap.toml\r\n"
     ]
    }
   ],
   "source": [
    "!ls -1 /toolscfg/grafana_playground/"
   ]
  },
  {
   "cell_type": "code",
   "execution_count": 10,
   "metadata": {},
   "outputs": [],
   "source": [
    "!sqlite3 /toolscfg/grafana_playground/grafana.db .dump > grafana_pg.dump\n",
    "\n",
    "!sed 's/msedatalab/devdatalab/' grafana_pg.dump > dev_grafana.dump"
   ]
  },
  {
   "cell_type": "code",
   "execution_count": 6,
   "metadata": {},
   "outputs": [
    {
     "name": "stdout",
     "output_type": "stream",
     "text": [
      "Backup_DataLab.ipynb   conf\t   datasources\t    grafana_pg.dump.gz\r\n",
      "Restore_DataLab.ipynb  dashboards  grafana_pg.dump\r\n"
     ]
    }
   ],
   "source": [
    "!ls"
   ]
  },
  {
   "cell_type": "code",
   "execution_count": 12,
   "metadata": {},
   "outputs": [],
   "source": [
    "!cat dev_grafana.dump | sqlite3 /toolscfg/grafana_playground/grafana.db "
   ]
  },
  {
   "cell_type": "code",
   "execution_count": null,
   "metadata": {},
   "outputs": [],
   "source": []
  }
 ],
 "metadata": {
  "kernelspec": {
   "display_name": "Python 3",
   "language": "python",
   "name": "python3"
  },
  "language_info": {
   "codemirror_mode": {
    "name": "ipython",
    "version": 3
   },
   "file_extension": ".py",
   "mimetype": "text/x-python",
   "name": "python",
   "nbconvert_exporter": "python",
   "pygments_lexer": "ipython3",
   "version": "3.6.7"
  }
 },
 "nbformat": 4,
 "nbformat_minor": 2
}
