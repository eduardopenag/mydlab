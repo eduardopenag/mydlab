{
 "cells": [
  {
   "cell_type": "code",
   "execution_count": 3,
   "metadata": {},
   "outputs": [],
   "source": [
    "import re, time\n",
    "import pandas as pd\n",
    "import ipywidgets as w\n",
    "from IPython import display as d"
   ]
  },
  {
   "cell_type": "code",
   "execution_count": 1,
   "metadata": {},
   "outputs": [],
   "source": [
    "#!cp -a /tmp/.ssh/* /home/dlabmgr/.ssh\n",
    "#!ssh -o \"StrictHostKeyChecking=no\" datalab@pl10 ls /\n"
   ]
  },
  {
   "cell_type": "code",
   "execution_count": null,
   "metadata": {},
   "outputs": [],
   "source": [
    "#!ssh -o \"StrictHostKeyChecking=no\" dlabmgr@pl10 /data/distributed/bin/dlab stop ldap\n",
    "#!ssh -o \"StrictHostKeyChecking=no\" dlabmgr@pl10"
   ]
  },
  {
   "cell_type": "code",
   "execution_count": 2,
   "metadata": {},
   "outputs": [
    {
     "name": "stdout",
     "output_type": "stream",
     "text": [
      "Ignoring unsupported options: build\n",
      "\n",
      "Creating service pl10dev_ldap_ldap-admin\n",
      "Creating service pl10dev_ldap_ldap-server\n",
      "Creating service pl10dev_ldap_nginx-ldap-auth\n"
     ]
    }
   ],
   "source": [
    "!ssh -o \"StrictHostKeyChecking=no\" dlabmgr@pl10 /data/distributed/bin/dlab start ldap"
   ]
  },
  {
   "cell_type": "code",
   "execution_count": 4,
   "metadata": {},
   "outputs": [
    {
     "data": {
      "application/vnd.jupyter.widget-view+json": {
       "model_id": "49f2b97bd8524f82a6e7d2f3e13aa664",
       "version_major": 2,
       "version_minor": 0
      },
      "text/plain": [
       "VBox(children=(Text(value='', placeholder='username'), Text(value='', placeholder='group'), Button(button_styl…"
      ]
     },
     "metadata": {},
     "output_type": "display_data"
    }
   ],
   "source": [
    "w_add_restoreLDAP_button = w.Button(description='Retore LDAP DB', icon='plus', button_style='success')\n",
    "w_add_user2g_result = w.Label()\n",
    "\n",
    "def button_add_user_to_group_action(*_):\n",
    "    w_add_user2g_result.value = result_codes[add_user_to_group(\n",
    "        w_username.value, w_group.value\n",
    "    )]\n",
    "\n",
    "w_add_user2g_button.on_click(button_add_user_to_group_action)\n",
    "w.VBox([w_username, w_group, w_add_user2g_button, w_add_user2g_result])"
   ]
  },
  {
   "cell_type": "code",
   "execution_count": null,
   "metadata": {},
   "outputs": [],
   "source": []
  }
 ],
 "metadata": {
  "kernelspec": {
   "display_name": "Python 3",
   "language": "python",
   "name": "python3"
  },
  "language_info": {
   "codemirror_mode": {
    "name": "ipython",
    "version": 3
   },
   "file_extension": ".py",
   "mimetype": "text/x-python",
   "name": "python",
   "nbconvert_exporter": "python",
   "pygments_lexer": "ipython3",
   "version": "3.6.7"
  }
 },
 "nbformat": 4,
 "nbformat_minor": 2
}
