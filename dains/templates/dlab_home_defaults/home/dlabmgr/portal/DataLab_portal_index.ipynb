{
 "cells": [
  {
   "cell_type": "markdown",
   "metadata": {},
   "source": [
    "<h1 id=\"Technical-Operations-DataLab\"><strong>Technical Operations DataLab</strong></h1>\n",
    "\n",
    "<p>&nbsp;</p>\n",
    "\n",
    "<hr />\n",
    "<p>&nbsp;</p>\n"
   ]
  },
  {
   "cell_type": "markdown",
   "metadata": {},
   "source": [
    "<p>   \n",
    "<a href=\"http://jupyterapp.devdatalab.pl.eso.org/user/epena/apps/nb_apps/change_pass.ipynb\" target=\"_blank\"><img alt=\"Autrep\" src=\"http://reports.devdatalab.pl.eso.org/images/change_pwd.png\" style=\"width: 130px; height:70px; border-width: 1px; border-style: solid; margin: 10px 3px; float: left;\" /></a>\n",
    "</p>"
   ]
  },
  {
   "cell_type": "markdown",
   "metadata": {},
   "source": [
    "<p>\n",
    "    \n",
    "<a href=\"http://autrep.devdatalab.pl.eso.org\" target=\"_blank\"><img alt=\"Autrep\" src=\"http://reports.devdatalab.pl.eso.org/images/autrep.png\" style=\"width: 230px; height: 129px; border-width: 1px; border-style: solid; margin: 10px 3px; float: left;\" /></a>\n",
    "    \n",
    "<a href=\"http://kibana.devdatalab.pl.eso.org/app/kibana#/discover?_g=()\" target=\"_blank\"><img alt=\"Kibana\" src=\"http://reports.devdatalab.pl.eso.org/images/kibana.png\" style=\"width: 230px; height: 129px; border-width: 1px; border-style: solid; margin: 10px 3px; float: left;\" /> </a>\n",
    "\n",
    "\n",
    "<a href=\"http://mygrafana.devdatalab.pl.eso.org\" target=\"_blank\"><img alt=\"Grafana\" src=\"http://reports.devdatalab.pl.eso.org/images/grafana_pg.png\" style=\"width: 230px; height: 129px; border-width: 1px; border-style: solid; margin: 10px 3px; float: left;\" /> </a>\n",
    "\n",
    "\n",
    "<a href=\"http://myjupyter.devdatalab.pl.eso.org\" target=\"_blank\"><img alt=\"Jupyter\" src=\"http://reports.devdatalab.pl.eso.org/images/jupyter.png\" style=\"width: 230px; height: 129px; border-width: 1px; border-style: solid; margin: 10px 3px; float: left;\" /> </a>\n",
    "\n",
    "<a href=\"http://myjupyter.datalab.pl.eso.org/user/*/lab\" target=\"_blank\"><img alt=\"Jupyter\" src=\"http://reports.devdatalab.pl.eso.org/images/jupyterlab.png\" style=\"width: 230px; height: 129px; border-width: 1px; border-style: solid; margin: 10px 3px; float: left;\" /> </a>\n",
    "\n",
    "<a href=\"http://reports.datalab.pl.eso.org\" target=\"_blank\"><img alt=\"Reports\" src=\"http://reports.devdatalab.pl.eso.org/images/reports.png\" style=\"width: 230px ; height: 129px ; border-width: 1px ; border-style: solid ; margin: 10px 3px ; float: left\" /> </a>\n",
    "\n",
    "<a href=\"http://voila.devdatalab.pl.eso.org\" target=\"_blank\"><img alt=\"Voila\" src=\"http://reports.devdatalab.pl.eso.org/images/voila.png\" style=\"width: 230px ; height: 129px ; border-width: 1px ; border-style: solid ; margin: 10px 3px ; float: left\" /> </a>\n",
    "\n",
    "<a href=\"http://jupyterapp.devdatalab.pl.eso.org\" target=\"_blank\"><img alt=\"Voila\" src=\"http://reports.devdatalab.pl.eso.org/images/jupyter_appmode.png\" style=\"width: 230px ; height: 129px ; border-width: 1px ; border-style: solid ; margin: 10px 3px ; float: left\" /> </a>\n",
    "\n",
    "</p>\n",
    "\n",
    "<p>&nbsp;</p>\n"
   ]
  },
  {
   "cell_type": "code",
   "execution_count": 6,
   "metadata": {
    "ExecuteTime": {
     "end_time": "2019-06-10T23:02:21.427408Z",
     "start_time": "2019-06-10T23:02:17.480222Z"
    }
   },
   "outputs": [],
   "source": [
    "%%capture\n",
    "!jupyter nbconvert --to html_embed DataLab_portal_index.ipynb --template=/datalake/libraries/templates/clean_output.tpl\n"
   ]
  },
  {
   "cell_type": "code",
   "execution_count": 7,
   "metadata": {
    "ExecuteTime": {
     "end_time": "2019-06-10T23:02:23.661764Z",
     "start_time": "2019-06-10T23:02:22.901925Z"
    }
   },
   "outputs": [],
   "source": [
    "# generating the html version of the notebook\n",
    "#ret = !jupyter nbconvert --to html_embed DataLab_portal_index.ipynb --template=/datalake/libraries/templates/clean_output.tpl\n",
    "\n",
    "# Manager account needed for this step\n",
    "!cp ./DataLab_portal_index.html /datalake/apps/datalab/index.html"
   ]
  },
  {
   "cell_type": "markdown",
   "metadata": {},
   "source": [
    "<hr />\n"
   ]
  }
 ],
 "metadata": {
  "hide_input": false,
  "kernelspec": {
   "display_name": "Python 3",
   "language": "python",
   "name": "python3"
  },
  "language_info": {
   "codemirror_mode": {
    "name": "ipython",
    "version": 3
   },
   "file_extension": ".py",
   "mimetype": "text/x-python",
   "name": "python",
   "nbconvert_exporter": "python",
   "pygments_lexer": "ipython3",
   "version": "3.6.7"
  },
  "toc": {
   "base_numbering": 1,
   "nav_menu": {},
   "number_sections": false,
   "sideBar": true,
   "skip_h1_title": true,
   "title_cell": "Table of Contents",
   "title_sidebar": "Contents",
   "toc_cell": false,
   "toc_position": {},
   "toc_section_display": true,
   "toc_window_display": true
  },
  "varInspector": {
   "cols": {
    "lenName": 16,
    "lenType": 16,
    "lenVar": 40
   },
   "kernels_config": {
    "python": {
     "delete_cmd_postfix": "",
     "delete_cmd_prefix": "del ",
     "library": "var_list.py",
     "varRefreshCmd": "print(var_dic_list())"
    },
    "r": {
     "delete_cmd_postfix": ") ",
     "delete_cmd_prefix": "rm(",
     "library": "var_list.r",
     "varRefreshCmd": "cat(var_dic_list()) "
    }
   },
   "types_to_exclude": [
    "module",
    "function",
    "builtin_function_or_method",
    "instance",
    "_Feature"
   ],
   "window_display": false
  }
 },
 "nbformat": 4,
 "nbformat_minor": 2
}
