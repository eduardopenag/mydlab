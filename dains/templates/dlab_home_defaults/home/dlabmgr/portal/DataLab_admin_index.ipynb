{
 "cells": [
  {
   "cell_type": "markdown",
   "metadata": {},
   "source": [
    "<h1 id=\" - - - - - - - - - - - - - - - - Technical-Operations-DataLab\"><strong>&nbsp; &nbsp; &nbsp; &nbsp; &nbsp; &nbsp; &nbsp; &nbsp; &nbsp; &nbsp; &nbsp; &nbsp; &nbsp; &nbsp; &nbsp; &nbsp; &nbsp;Technical Operations DataLab</strong></h1>\n",
    "\n",
    "<h2 data-toc-modified-id=\" - - - - - - - - - - - - - - - - - - - - - - - - - - - - - (Administration)-1\" id=\" - - - - - - - - - - - - - - - - - - - - - - - - - - - - - (Administration)\"><a class=\"toc-mod-link\" id=\" - - - - - - - - - - - - - - - - - - - - - - - - - - - - - (Administration)-1\"></a><strong>&nbsp; &nbsp; &nbsp; &nbsp; &nbsp; &nbsp; &nbsp; &nbsp; &nbsp; &nbsp; &nbsp; &nbsp; &nbsp; &nbsp; &nbsp; &nbsp; &nbsp; &nbsp; &nbsp; &nbsp; &nbsp; &nbsp; &nbsp; &nbsp; &nbsp; &nbsp; &nbsp; &nbsp; &nbsp; &nbsp;(Administration)</strong></h2>\n",
    "\n",
    "<hr />"
   ]
  },
  {
   "cell_type": "markdown",
   "metadata": {},
   "source": [
    "<p>   \n",
    "<a href=\"http://jupyterapp.msedatalab.pl.eso.org/user/epena/apps/nb_apps/change_pass.ipynb\" target=\"_blank\"><img alt=\"Autrep\" src=\"http://reports.devdatalab.pl.eso.org/images/change_pwd.png\" style=\"width: 130px; height:70px; border-width: 1px; border-style: solid; margin: 10px 3px; float: left;\" /></a>\n",
    "</p>"
   ]
  },
  {
   "cell_type": "markdown",
   "metadata": {
    "slideshow": {
     "slide_type": "subslide"
    }
   },
   "source": [
    "## User Services / Tools"
   ]
  },
  {
   "cell_type": "markdown",
   "metadata": {},
   "source": [
    "<p>\n",
    "    \n",
    "<a href=\"http://autrep.devdatalab.pl.eso.org\" target=\"_blank\"><img alt=\"Autrep\" src=\"http://reports.devdatalab.pl.eso.org/images/autrep.png\" style=\"width: 230px; height: 129px; border-width: 1px; border-style: solid; margin: 10px 3px; float: left;\" /></a>\n",
    "    \n",
    "<a href=\"http://kibana.devdatalab.pl.eso.org/app/kibana#/discover?_g=()\" target=\"_blank\"><img alt=\"Kibana\" src=\"http://reports.devdatalab.pl.eso.org/images/kibana.png\" style=\"width: 230px; height: 129px; border-width: 1px; border-style: solid; margin: 10px 3px; float: left;\" /> </a>\n",
    "\n",
    "\n",
    "<a href=\"http://mygrafana.devdatalab.pl.eso.org\" target=\"_blank\"><img alt=\"Grafana\" src=\"http://reports.devdatalab.pl.eso.org/images/grafana_pg.png\" style=\"width: 230px; height: 129px; border-width: 1px; border-style: solid; margin: 10px 3px; float: left;\" /> </a>\n",
    "\n",
    "\n",
    "<a href=\"http://myjupyter.devdatalab.pl.eso.org\" target=\"_blank\"><img alt=\"Jupyter\" src=\"http://reports.devdatalab.pl.eso.org/images/jupyter.png\" style=\"width: 230px; height: 129px; border-width: 1px; border-style: solid; margin: 10px 3px; float: left;\" /> </a>\n",
    "\n",
    "<a href=\"http://myjupyter.datalab.pl.eso.org/user/*/lab\" target=\"_blank\"><img alt=\"Jupyter\" src=\"http://reports.devdatalab.pl.eso.org/images/jupyterlab.png\" style=\"width: 230px; height: 129px; border-width: 1px; border-style: solid; margin: 10px 3px; float: left;\" /> </a>\n",
    "\n",
    "<a href=\"http://reports.datalab.pl.eso.org\" target=\"_blank\"><img alt=\"Reports\" src=\"http://reports.devdatalab.pl.eso.org/images/reports.png\" style=\"width: 230px ; height: 129px ; border-width: 1px ; border-style: solid ; margin: 10px 3px ; float: left\" /> </a>\n",
    "\n",
    "<a href=\"http://voila.devdatalab.pl.eso.org\" target=\"_blank\"><img alt=\"Voila\" src=\"http://reports.devdatalab.pl.eso.org/images/voila.png\" style=\"width: 230px ; height: 129px ; border-width: 1px ; border-style: solid ; margin: 10px 3px ; float: left\" /> </a>\n",
    "\n",
    "<a href=\"http://jupyterapp.devdatalab.pl.eso.org\" target=\"_blank\"><img alt=\"Voila\" src=\"http://reports.devdatalab.pl.eso.org/images/jupyter_appmode.png\" style=\"width: 230px ; height: 129px ; border-width: 1px ; border-style: solid ; margin: 10px 3px ; float: left\" /> </a>\n",
    "\n",
    "</p>\n",
    "\n",
    "<p>&nbsp;</p>\n"
   ]
  },
  {
   "cell_type": "markdown",
   "metadata": {},
   "source": [
    "## Administrative Notebooks"
   ]
  },
  {
   "cell_type": "markdown",
   "metadata": {},
   "source": [
    "<p>\n",
    "\n",
    "<a href=\"http://jupyteradmin.devdatalab.pl.eso.org:81/user/dlabmgr/apps/user_admin/LDAP_Admin.ipynb?appmode_scroll=0\" target=\"_blank\"><img alt=\"Autrep\" src=\"http://reports.devdatalab.pl.eso.org/images/user_management.png\" style=\"width: 230px ; height: 129px ; border-width: 1px ; border-style: solid ; margin: 10px 3px ; float: left\" /></a>\n",
    "\n",
    "<a href=\"http://cerebro.devdatalab.pl.eso.org:81/#/overview?host=http:%2F%2Fdevdatalab:9200\" target=\"_blank\"><img alt=\"Autrep\" src=\"http://reports.devdatalab.pl.eso.org/images/backup.png\" style=\"width: 230px ; height: 129px ; border-width: 1px ; border-style: solid ; margin: 10px 3px ; float: left\" /></a>\n",
    "\n",
    "<a href=\"http://cerebro.devdatalab.pl.eso.org:81/#/overview?host=http:%2F%2Fdevdatalab:9200\" target=\"_blank\"><img alt=\"Autrep\" src=\"http://reports.devdatalab.pl.eso.org/images/restore.png\" style=\"width: 230px ; height: 129px ; border-width: 1px ; border-style: solid ; margin: 10px 3px ; float: left\" /></a>\n",
    "\n",
    "<a href=\"http://cerebro.devdatalab.pl.eso.org:81/#/overview?host=http:%2F%2Fdevdatalab:9200\" target=\"_blank\"><img alt=\"Autrep\" src=\"http://reports.devdatalab.pl.eso.org/images/dlab_ext_management.png\" style=\"width: 230px ; height: 129px ; border-width: 1px ; border-style: solid ; margin: 10px 3px ; float: left\" /></a>\n",
    "\n",
    "<p>&nbsp;</p>\n"
   ]
  },
  {
   "cell_type": "markdown",
   "metadata": {},
   "source": [
    "<hr />"
   ]
  },
  {
   "cell_type": "markdown",
   "metadata": {},
   "source": [
    "## Administrative Tools"
   ]
  },
  {
   "cell_type": "markdown",
   "metadata": {},
   "source": [
    "<p>\n",
    "\n",
    "<a href=\"http://cerebro.devdatalab.pl.eso.org:81/#/overview?host=http:%2F%2Fdevdatalab:9200\" target=\"_blank\"><img alt=\"Autrep\" src=\"http://reports.devdatalab.pl.eso.org/images/cerebro.png\" style=\"width: 230px ; height: 129px ; border-width: 1px ; border-style: solid ; margin: 10px 3px ; float: left\" /></a>\n",
    "\n",
    "<a href=\"http://kairosdb.devdatalab.pl.eso.org:8080/\" target=\"_blank\"><img alt=\"Kibana\" src=\"http://reports.devdatalab.pl.eso.org/images/kairosdb.png\" style=\"width: 230px ; height: 129px ; border-width: 1px ; border-style: solid ; margin: 10px 3px ; float: left\" /> </a>\n",
    "\n",
    "<a href=\"http://cron.devdatalab.pl.eso.org:81\" target=\"_blank\"><img alt=\"Grafana\" src=\"http://reports.devdatalab.pl.eso.org/images/cronicle.png\" style=\"width: 230px ; height: 129px ; border-width: 1px ; border-style: solid ; margin: 10px 3px ; float: left\" /> </a>\n",
    "\n",
    "<a href=\"http://jupyteradmin.devdatalab.pl.eso.org:81\" target=\"_blank\"><img alt=\"Jupyter\" src=\"http://reports.devdatalab.pl.eso.org/images/jupyter_admin.png\" style=\"width: 230px ; height: 129px ; border-width: 1px ; border-style: solid ; margin: 10px 3px ; float: left\" /> </a>\n",
    "\n",
    "<a href=\"http://devdatalab.pl.eso.org:8082\" target=\"_blank\"><img alt=\"Jupyter\" src=\"http://reports.devdatalab.pl.eso.org/images/ldap.png\" style=\"width: 230px ; height: 129px ; border-width: 1px ; border-style: solid ; margin: 10px 3px ; float: left\" /> </a>\n",
    "\n",
    "<a href=\"http://viz.devdatalab.pl.eso.org:81\" target=\"_blank\"><img alt=\"Viz\" src=\"http://reports.devdatalab.pl.eso.org/images/viz.png\" style=\"width: 230px ; height: 129px ; border-width: 1px ; border-style: solid ; margin: 10px 3px ; float: left\" /> </a>\n",
    "\n",
    "<a href=\"http://portainer.devdatalab.pl.eso.org:81/\" target=\"_blank\"><img alt=\"Viz\" src=\"http://reports.devdatalab.pl.eso.org/images/portainer.png\" style=\"width: 230px ; height: 129px ; border-width: 1px ; border-style: solid ; margin: 10px 3px ; float: left\" /> </a>\n",
    "\n",
    "\n",
    "<a href=\"http://devdatalab.pl.eso.org:19998\" target=\"_blank\"><img alt=\"Netdata\" src=\"http://reports.devdatalab.pl.eso.org/images/netdata.png\" style=\"width: 230px ; height: 129px ; border-width: 1px ; border-style: solid ; margin: 10px 3px ; float: left\" /></a>\n",
    "\n",
    "<p>&nbsp;</p>\n"
   ]
  },
  {
   "cell_type": "code",
   "execution_count": 5,
   "metadata": {},
   "outputs": [],
   "source": [
    "%%capture\n",
    "\n",
    "!jupyter nbconvert --to html_embed DataLab_admin_index.ipynb --template=/datalake/libraries/templates/clean_output.tpl\n"
   ]
  },
  {
   "cell_type": "code",
   "execution_count": 6,
   "metadata": {},
   "outputs": [],
   "source": [
    "!cp ./DataLab_admin_index.html /datalake/apps/datalab/index_admin.html"
   ]
  },
  {
   "cell_type": "code",
   "execution_count": null,
   "metadata": {},
   "outputs": [],
   "source": [
    "# Deployment notebook:\n",
    "# http://msedatalab:8888/notebooks/epena/datalab_deploy.ipynb\n",
    "\n",
    "# Password change notebook:\n",
    "# ????"
   ]
  },
  {
   "cell_type": "markdown",
   "metadata": {},
   "source": [
    "<hr />\n",
    "\n"
   ]
  }
 ],
 "metadata": {
  "hide_input": true,
  "kernelspec": {
   "display_name": "Python 3",
   "language": "python",
   "name": "python3"
  },
  "language_info": {
   "codemirror_mode": {
    "name": "ipython",
    "version": 3
   },
   "file_extension": ".py",
   "mimetype": "text/x-python",
   "name": "python",
   "nbconvert_exporter": "python",
   "pygments_lexer": "ipython3",
   "version": "3.6.7"
  },
  "toc": {
   "base_numbering": 1,
   "nav_menu": {},
   "number_sections": false,
   "sideBar": true,
   "skip_h1_title": true,
   "title_cell": "Table of Contents",
   "title_sidebar": "Contents",
   "toc_cell": false,
   "toc_position": {},
   "toc_section_display": true,
   "toc_window_display": false
  },
  "varInspector": {
   "cols": {
    "lenName": 16,
    "lenType": 16,
    "lenVar": 40
   },
   "kernels_config": {
    "python": {
     "delete_cmd_postfix": "",
     "delete_cmd_prefix": "del ",
     "library": "var_list.py",
     "varRefreshCmd": "print(var_dic_list())"
    },
    "r": {
     "delete_cmd_postfix": ") ",
     "delete_cmd_prefix": "rm(",
     "library": "var_list.r",
     "varRefreshCmd": "cat(var_dic_list()) "
    }
   },
   "types_to_exclude": [
    "module",
    "function",
    "builtin_function_or_method",
    "instance",
    "_Feature"
   ],
   "window_display": false
  }
 },
 "nbformat": 4,
 "nbformat_minor": 2
}
